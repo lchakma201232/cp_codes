{
 "cells": [
  {
   "cell_type": "code",
   "execution_count": null,
   "metadata": {},
   "outputs": [],
   "source": [
    "state[][]=[[1,2,3],[4,5,6],[7,8,0]]\n",
    "def get_lowest_neighbor(state):\n",
    "    x,y=0,0\n",
    "    for i in range(len(state)):\n",
    "        for j in range(len(state[i])):\n",
    "            if state[i][j]==0:\n",
    "                y,x=i,j\n",
    "                break\n",
    "    dir=[[1,0],[0,1],[-1,0],[0,-1]]\n",
    "    states=[]\n",
    "    for i in range(len(dir)):\n",
    "        if x+dir[i][0]<0 or x+dir[i][0]>=len(state) or y+dir[i][1]<0 or y+dir[i][1]>=len(state[0]):\n",
    "            continue\n",
    "        else:\n",
    "            t_state=state.copy()\n",
    "            xx,yy=x+dir[i][0],y+dir[i][1] #x,y=x+1,y+0\n",
    "            t_state[y][x],t_state[yy][xx]=t_state[yy][xx],t_state[y][x]\n",
    "            states.append(t_state)\n",
    "    min_state,hs=state,h1(state)\n",
    "    for k in states:\n",
    "        hk=h1(k)\n",
    "        if hk<hs:\n",
    "            min_state,hs=k,hk\n",
    "    return min_state\n",
    "\n",
    "        \n"
   ]
  },
  {
   "cell_type": "code",
   "execution_count": null,
   "metadata": {},
   "outputs": [],
   "source": [
    "get_lowest_neighbor(state)"
   ]
  }
 ],
 "metadata": {
  "language_info": {
   "name": "python"
  },
  "orig_nbformat": 4
 },
 "nbformat": 4,
 "nbformat_minor": 2
}
